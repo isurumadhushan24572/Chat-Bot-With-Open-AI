{
 "cells": [
  {
   "cell_type": "code",
   "execution_count": 1,
   "metadata": {},
   "outputs": [],
   "source": [
    "from dotenv import load_dotenv                  # Load the environment variables to python environment\n",
    "import os                                       # access the environment variables"
   ]
  },
  {
   "cell_type": "code",
   "execution_count": 2,
   "metadata": {},
   "outputs": [],
   "source": [
    "# os.getenv(\"OPENAI_API_KEY\")"
   ]
  },
  {
   "cell_type": "markdown",
   "metadata": {},
   "source": [
    "### Initialize LLM"
   ]
  },
  {
   "cell_type": "code",
   "execution_count": 3,
   "metadata": {},
   "outputs": [],
   "source": [
    "#from langchain_openai import ChatOpenAI\n",
    "\n",
    "# llm = ChatOpenAI(\n",
    "#     model = \"gpt-3.5-turbo\",\n",
    "#     temperature=0.5\n",
    "# )\n",
    "\n",
    "\n",
    "from langchain_groq import ChatGroq  \n",
    "\n",
    "llm = ChatGroq(model=\"llama3-8b-8192\",temperature = 0.5)"
   ]
  },
  {
   "cell_type": "markdown",
   "metadata": {},
   "source": [
    "### Initializing Prompt Template"
   ]
  },
  {
   "cell_type": "code",
   "execution_count": 4,
   "metadata": {},
   "outputs": [],
   "source": [
    "from langchain_core.prompts import ChatPromptTemplate\n",
    "from langchain_core.messages import HumanMessage, AIMessage,SystemMessage \n",
    "\n",
    "template = \"\"\"\n",
    "You are a friendly and helpful AI assistant. Answer the user's question in simple and clear English.\n",
    "\n",
    "Question: {question}\n",
    "\n",
    "Chat History:  \n",
    "{chat_history}\n",
    "\n",
    "Your Answer:\n",
    "\"\"\"\n",
    "\n",
    "prompt = ChatPromptTemplate.from_template(template)\n"
   ]
  },
  {
   "cell_type": "markdown",
   "metadata": {},
   "source": [
    "### Initialize Out Put Parser"
   ]
  },
  {
   "cell_type": "code",
   "execution_count": 5,
   "metadata": {},
   "outputs": [],
   "source": [
    "from langchain_core.output_parsers import StrOutputParser\n",
    "OutputParser = StrOutputParser()"
   ]
  },
  {
   "cell_type": "code",
   "execution_count": 6,
   "metadata": {},
   "outputs": [],
   "source": [
    "chat_history = [ ]"
   ]
  },
  {
   "cell_type": "markdown",
   "metadata": {},
   "source": [
    "### Make Chain"
   ]
  },
  {
   "cell_type": "code",
   "execution_count": 7,
   "metadata": {},
   "outputs": [],
   "source": [
    "chain = prompt | llm | OutputParser"
   ]
  },
  {
   "cell_type": "markdown",
   "metadata": {},
   "source": [
    "### Answering Question from the chatbot"
   ]
  },
  {
   "cell_type": "code",
   "execution_count": 8,
   "metadata": {},
   "outputs": [
    {
     "name": "stdout",
     "output_type": "stream",
     "text": [
      "Hello! It's nice to meet you. How can I assist you today?\n",
      "Nice to help you with that!\n",
      "\n",
      "Gen AI is a term used to describe a new generation of Artificial Intelligence (AI) models that are more advanced, powerful, and capable of learning and adapting like humans. These AI models are designed to be more general-purpose, meaning they can be applied to a wide range of tasks and domains, such as natural language processing, computer vision, and decision-making.\n",
      "\n",
      "Gen AI models are often characterized by their ability to learn from large amounts of data, identify patterns, and make decisions based on that information. They can also be fine-tuned for specific tasks, allowing them to become highly specialized and accurate.\n",
      "\n",
      "In short, Gen AI represents a significant leap forward in AI technology, enabling machines to think, learn, and interact more like humans.\n",
      "Goodbye! Have a great day!\n"
     ]
    }
   ],
   "source": [
    "while True:\n",
    "    user_input = input(\"Enter the question (type 'bye' to exit): \")\n",
    "    \n",
    "    if user_input.lower() == \"bye\":\n",
    "        print(\"Goodbye! Have a great day!\")\n",
    "        break  # Exit the loop when user says \"bye\"\n",
    "    \n",
    "    chat_history.append(HumanMessage(content=user_input))\n",
    "    response = chain.invoke({\"question\": user_input, \"chat_history\": chat_history})\n",
    "    chat_history.append(AIMessage(content=response))\n",
    "    \n",
    "    print(response)\n"
   ]
  },
  {
   "cell_type": "code",
   "execution_count": 9,
   "metadata": {},
   "outputs": [
    {
     "data": {
      "text/plain": [
       "[HumanMessage(content='Hello', additional_kwargs={}, response_metadata={}),\n",
       " AIMessage(content=\"Hello! It's nice to meet you. How can I assist you today?\", additional_kwargs={}, response_metadata={}),\n",
       " HumanMessage(content='what is Gen AI?', additional_kwargs={}, response_metadata={}),\n",
       " AIMessage(content='Nice to help you with that!\\n\\nGen AI is a term used to describe a new generation of Artificial Intelligence (AI) models that are more advanced, powerful, and capable of learning and adapting like humans. These AI models are designed to be more general-purpose, meaning they can be applied to a wide range of tasks and domains, such as natural language processing, computer vision, and decision-making.\\n\\nGen AI models are often characterized by their ability to learn from large amounts of data, identify patterns, and make decisions based on that information. They can also be fine-tuned for specific tasks, allowing them to become highly specialized and accurate.\\n\\nIn short, Gen AI represents a significant leap forward in AI technology, enabling machines to think, learn, and interact more like humans.', additional_kwargs={}, response_metadata={})]"
      ]
     },
     "execution_count": 9,
     "metadata": {},
     "output_type": "execute_result"
    }
   ],
   "source": [
    "chat_history"
   ]
  },
  {
   "cell_type": "code",
   "execution_count": null,
   "metadata": {},
   "outputs": [],
   "source": []
  }
 ],
 "metadata": {
  "kernelspec": {
   "display_name": "chatbot-env",
   "language": "python",
   "name": "python3"
  },
  "language_info": {
   "codemirror_mode": {
    "name": "ipython",
    "version": 3
   },
   "file_extension": ".py",
   "mimetype": "text/x-python",
   "name": "python",
   "nbconvert_exporter": "python",
   "pygments_lexer": "ipython3",
   "version": "3.9.13"
  }
 },
 "nbformat": 4,
 "nbformat_minor": 2
}
